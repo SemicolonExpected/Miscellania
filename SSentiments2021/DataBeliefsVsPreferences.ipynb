{
 "cells": [
  {
   "cell_type": "markdown",
   "metadata": {},
   "source": [
    "# Data Beliefs Vs Preferences for Remote, Camera, and Recordings"
   ]
  },
  {
   "cell_type": "markdown",
   "metadata": {},
   "source": [
    "Using spearman's correlation coefficient (because we are measuring the correlation of mostly ordinal data) and the metric of \n",
    "\n",
    "    < 20    \"very weak - no correlation\"\n",
    "    .20-.39 “weak”\n",
    "    .40-.59 “moderate”\n",
    "    .60-.79 “strong”\n",
    "    .80-1.0 “very strong”\n",
    "\n",
    "We can tell that there is \n",
    "\n",
    "* a moderate correlation between how much participants believe video conferencing collects and how much participants believe the other two categories of software collects (0.47 and 0.45 respectively)\n",
    "* a strong correlation between how much participants believe LMS collects and how much participants believe Proctoring software collects (0.61)\n",
    "* **a weak negative correlations between belief in how much video conferencing software collects and whether students wanted lectures recorded (-0.26). Also a weak correlation as to whether they believed that the data was sent to instructors (0.24) No correlation to whether they want the camera on nor whether they wanted remote (-0.01 and -0.09 respectively)**\n",
    "* moderate correlation between whether they believed that video conferencing data was sent to instructors vs whether LMS data was as well as whether proctoring data was. (0.48 and 0.47 respectively) wrt LMS data vs proctoring data is also moderate (0.41)\n",
    "* not much correlation between whether they wanted the camera on nor if they wanted remote classes with anything else\n",
    "\n",
    "For the pairs that do not have strong correlation according to spearman this does not mean that there is indeed no/weak correlation but rather that there is no/weak monotonic correlation"
   ]
  },
  {
   "cell_type": "code",
   "execution_count": 312,
   "metadata": {},
   "outputs": [
    {
     "data": {
      "text/html": [
       "<div>\n",
       "<style scoped>\n",
       "    .dataframe tbody tr th:only-of-type {\n",
       "        vertical-align: middle;\n",
       "    }\n",
       "\n",
       "    .dataframe tbody tr th {\n",
       "        vertical-align: top;\n",
       "    }\n",
       "\n",
       "    .dataframe thead th {\n",
       "        text-align: right;\n",
       "    }\n",
       "</style>\n",
       "<table border=\"1\" class=\"dataframe\">\n",
       "  <thead>\n",
       "    <tr style=\"text-align: right;\">\n",
       "      <th></th>\n",
       "      <th>beliefsVidConId</th>\n",
       "      <th>beliefsDataSentVidCon</th>\n",
       "      <th>beliefsLMSId</th>\n",
       "      <th>beliefsDataSentLMS</th>\n",
       "      <th>beliefsProctorId</th>\n",
       "      <th>beliefsDataSentProctor</th>\n",
       "      <th>ifWantCameraOn</th>\n",
       "      <th>ifWantRemote</th>\n",
       "      <th>ifWantRecording</th>\n",
       "    </tr>\n",
       "  </thead>\n",
       "  <tbody>\n",
       "    <tr>\n",
       "      <th>beliefsVidConId</th>\n",
       "      <td>1.000000</td>\n",
       "      <td>0.240772</td>\n",
       "      <td>0.473345</td>\n",
       "      <td>0.137432</td>\n",
       "      <td>0.456845</td>\n",
       "      <td>0.032123</td>\n",
       "      <td>-0.008632</td>\n",
       "      <td>-0.099356</td>\n",
       "      <td>-0.263384</td>\n",
       "    </tr>\n",
       "    <tr>\n",
       "      <th>beliefsDataSentVidCon</th>\n",
       "      <td>0.240772</td>\n",
       "      <td>1.000000</td>\n",
       "      <td>0.026091</td>\n",
       "      <td>0.481306</td>\n",
       "      <td>0.142714</td>\n",
       "      <td>0.473015</td>\n",
       "      <td>-0.044089</td>\n",
       "      <td>0.181481</td>\n",
       "      <td>-0.202774</td>\n",
       "    </tr>\n",
       "    <tr>\n",
       "      <th>beliefsLMSId</th>\n",
       "      <td>0.473345</td>\n",
       "      <td>0.026091</td>\n",
       "      <td>1.000000</td>\n",
       "      <td>0.249059</td>\n",
       "      <td>0.617363</td>\n",
       "      <td>0.049733</td>\n",
       "      <td>-0.070213</td>\n",
       "      <td>0.059147</td>\n",
       "      <td>-0.205922</td>\n",
       "    </tr>\n",
       "    <tr>\n",
       "      <th>beliefsDataSentLMS</th>\n",
       "      <td>0.137432</td>\n",
       "      <td>0.481306</td>\n",
       "      <td>0.249059</td>\n",
       "      <td>1.000000</td>\n",
       "      <td>0.055549</td>\n",
       "      <td>0.414213</td>\n",
       "      <td>0.062841</td>\n",
       "      <td>-0.030877</td>\n",
       "      <td>-0.203707</td>\n",
       "    </tr>\n",
       "    <tr>\n",
       "      <th>beliefsProctorId</th>\n",
       "      <td>0.456845</td>\n",
       "      <td>0.142714</td>\n",
       "      <td>0.617363</td>\n",
       "      <td>0.055549</td>\n",
       "      <td>1.000000</td>\n",
       "      <td>0.195004</td>\n",
       "      <td>-0.167775</td>\n",
       "      <td>0.104617</td>\n",
       "      <td>-0.061922</td>\n",
       "    </tr>\n",
       "    <tr>\n",
       "      <th>beliefsDataSentProctor</th>\n",
       "      <td>0.032123</td>\n",
       "      <td>0.473015</td>\n",
       "      <td>0.049733</td>\n",
       "      <td>0.414213</td>\n",
       "      <td>0.195004</td>\n",
       "      <td>1.000000</td>\n",
       "      <td>0.003001</td>\n",
       "      <td>0.135125</td>\n",
       "      <td>-0.041888</td>\n",
       "    </tr>\n",
       "    <tr>\n",
       "      <th>ifWantCameraOn</th>\n",
       "      <td>-0.008632</td>\n",
       "      <td>-0.044089</td>\n",
       "      <td>-0.070213</td>\n",
       "      <td>0.062841</td>\n",
       "      <td>-0.167775</td>\n",
       "      <td>0.003001</td>\n",
       "      <td>1.000000</td>\n",
       "      <td>0.048074</td>\n",
       "      <td>-0.040734</td>\n",
       "    </tr>\n",
       "    <tr>\n",
       "      <th>ifWantRemote</th>\n",
       "      <td>-0.099356</td>\n",
       "      <td>0.181481</td>\n",
       "      <td>0.059147</td>\n",
       "      <td>-0.030877</td>\n",
       "      <td>0.104617</td>\n",
       "      <td>0.135125</td>\n",
       "      <td>0.048074</td>\n",
       "      <td>1.000000</td>\n",
       "      <td>0.104692</td>\n",
       "    </tr>\n",
       "    <tr>\n",
       "      <th>ifWantRecording</th>\n",
       "      <td>-0.263384</td>\n",
       "      <td>-0.202774</td>\n",
       "      <td>-0.205922</td>\n",
       "      <td>-0.203707</td>\n",
       "      <td>-0.061922</td>\n",
       "      <td>-0.041888</td>\n",
       "      <td>-0.040734</td>\n",
       "      <td>0.104692</td>\n",
       "      <td>1.000000</td>\n",
       "    </tr>\n",
       "  </tbody>\n",
       "</table>\n",
       "</div>"
      ],
      "text/plain": [
       "                        beliefsVidConId  beliefsDataSentVidCon  beliefsLMSId  \\\n",
       "beliefsVidConId                1.000000               0.240772      0.473345   \n",
       "beliefsDataSentVidCon          0.240772               1.000000      0.026091   \n",
       "beliefsLMSId                   0.473345               0.026091      1.000000   \n",
       "beliefsDataSentLMS             0.137432               0.481306      0.249059   \n",
       "beliefsProctorId               0.456845               0.142714      0.617363   \n",
       "beliefsDataSentProctor         0.032123               0.473015      0.049733   \n",
       "ifWantCameraOn                -0.008632              -0.044089     -0.070213   \n",
       "ifWantRemote                  -0.099356               0.181481      0.059147   \n",
       "ifWantRecording               -0.263384              -0.202774     -0.205922   \n",
       "\n",
       "                        beliefsDataSentLMS  beliefsProctorId  \\\n",
       "beliefsVidConId                   0.137432          0.456845   \n",
       "beliefsDataSentVidCon             0.481306          0.142714   \n",
       "beliefsLMSId                      0.249059          0.617363   \n",
       "beliefsDataSentLMS                1.000000          0.055549   \n",
       "beliefsProctorId                  0.055549          1.000000   \n",
       "beliefsDataSentProctor            0.414213          0.195004   \n",
       "ifWantCameraOn                    0.062841         -0.167775   \n",
       "ifWantRemote                     -0.030877          0.104617   \n",
       "ifWantRecording                  -0.203707         -0.061922   \n",
       "\n",
       "                        beliefsDataSentProctor  ifWantCameraOn  ifWantRemote  \\\n",
       "beliefsVidConId                       0.032123       -0.008632     -0.099356   \n",
       "beliefsDataSentVidCon                 0.473015       -0.044089      0.181481   \n",
       "beliefsLMSId                          0.049733       -0.070213      0.059147   \n",
       "beliefsDataSentLMS                    0.414213        0.062841     -0.030877   \n",
       "beliefsProctorId                      0.195004       -0.167775      0.104617   \n",
       "beliefsDataSentProctor                1.000000        0.003001      0.135125   \n",
       "ifWantCameraOn                        0.003001        1.000000      0.048074   \n",
       "ifWantRemote                          0.135125        0.048074      1.000000   \n",
       "ifWantRecording                      -0.041888       -0.040734      0.104692   \n",
       "\n",
       "                        ifWantRecording  \n",
       "beliefsVidConId               -0.263384  \n",
       "beliefsDataSentVidCon         -0.202774  \n",
       "beliefsLMSId                  -0.205922  \n",
       "beliefsDataSentLMS            -0.203707  \n",
       "beliefsProctorId              -0.061922  \n",
       "beliefsDataSentProctor        -0.041888  \n",
       "ifWantCameraOn                -0.040734  \n",
       "ifWantRemote                   0.104692  \n",
       "ifWantRecording                1.000000  "
      ]
     },
     "execution_count": 312,
     "metadata": {},
     "output_type": "execute_result"
    }
   ],
   "source": [
    "data_copy.corr(method='spearman', min_periods=1)"
   ]
  },
  {
   "cell_type": "markdown",
   "metadata": {},
   "source": [
    "# \\# of non-unsure items particpant believes is collected vs preferences"
   ]
  },
  {
   "cell_type": "markdown",
   "metadata": {},
   "source": [
    "Response to:\n",
    "> There’s also no discussion regarding these quantitative results in the Results and Discussion section. Looking at the survey questionnaire, the questions regarding students’ beliefs about the different types of data collected by the different software can potentially be used to predict students’ preference for attending classes remotely vs. in-person.\n",
    "\n",
    "Though we didnt find too much correlation wrt our Spearman test, we can do some more tests on this. I think One way ANOVA is appropriate here as we have a discrete variable (prefernces for remote/recording/camera) and continuous (# of data collected)"
   ]
  },
  {
   "cell_type": "code",
   "execution_count": 398,
   "metadata": {
    "scrolled": true
   },
   "outputs": [
    {
     "data": {
      "text/html": [
       "<div>\n",
       "<style scoped>\n",
       "    .dataframe tbody tr th:only-of-type {\n",
       "        vertical-align: middle;\n",
       "    }\n",
       "\n",
       "    .dataframe tbody tr th {\n",
       "        vertical-align: top;\n",
       "    }\n",
       "\n",
       "    .dataframe thead th {\n",
       "        text-align: right;\n",
       "    }\n",
       "</style>\n",
       "<table border=\"1\" class=\"dataframe\">\n",
       "  <thead>\n",
       "    <tr style=\"text-align: right;\">\n",
       "      <th></th>\n",
       "      <th>beliefsVidConId</th>\n",
       "      <th>beliefsLMSId</th>\n",
       "      <th>beliefsProctorId</th>\n",
       "    </tr>\n",
       "  </thead>\n",
       "  <tbody>\n",
       "    <tr>\n",
       "      <th>ifWantCameraOn</th>\n",
       "      <td>(0.039949095666883164, 2.58847110125591)</td>\n",
       "      <td>(0.5899299387418798, 0.7050303334538528)</td>\n",
       "      <td>(0.14338666238173736, 1.748820406650797)</td>\n",
       "    </tr>\n",
       "    <tr>\n",
       "      <th>ifWantRemote</th>\n",
       "      <td>(0.5592503795873202, 0.7508270200672893)</td>\n",
       "      <td>(0.7449654838947286, 0.48739931817161364)</td>\n",
       "      <td>(0.4843732730874074, 0.8693864491216069)</td>\n",
       "    </tr>\n",
       "    <tr>\n",
       "      <th>ifWantRecording</th>\n",
       "      <td>(0.004840248869209463, 3.9311082360639475)</td>\n",
       "      <td>(0.00037614441177719814, 5.55462752414772)</td>\n",
       "      <td>(0.2894176262381812, 1.2596525004596557)</td>\n",
       "    </tr>\n",
       "  </tbody>\n",
       "</table>\n",
       "</div>"
      ],
      "text/plain": [
       "                                            beliefsVidConId  \\\n",
       "ifWantCameraOn     (0.039949095666883164, 2.58847110125591)   \n",
       "ifWantRemote       (0.5592503795873202, 0.7508270200672893)   \n",
       "ifWantRecording  (0.004840248869209463, 3.9311082360639475)   \n",
       "\n",
       "                                               beliefsLMSId  \\\n",
       "ifWantCameraOn     (0.5899299387418798, 0.7050303334538528)   \n",
       "ifWantRemote      (0.7449654838947286, 0.48739931817161364)   \n",
       "ifWantRecording  (0.00037614441177719814, 5.55462752414772)   \n",
       "\n",
       "                                         beliefsProctorId  \n",
       "ifWantCameraOn   (0.14338666238173736, 1.748820406650797)  \n",
       "ifWantRemote     (0.4843732730874074, 0.8693864491216069)  \n",
       "ifWantRecording  (0.2894176262381812, 1.2596525004596557)  "
      ]
     },
     "execution_count": 398,
     "metadata": {},
     "output_type": "execute_result"
    }
   ],
   "source": [
    "a = [c for c in data_copy.columns if 'ifWant' in c]\n",
    "b = [c for c in data_copy.columns if 'beliefs' in c and 'Id' in c]\n",
    "\n",
    "table = {'beliefsVidConId': [], 'beliefsLMSId': [], 'beliefsProctorId': []}\n",
    "#table['beliefs_vidcon'].append(4)\n",
    "#table\n",
    "for cat in b:\n",
    "    for item in a:\n",
    "        F, p = ss.f_oneway(data_copy[data_copy[item] == 0][cat],\n",
    "                  data_copy[data_copy[item] == 1][cat],\n",
    "                  data_copy[data_copy[item] == 2][cat],\n",
    "                  data_copy[data_copy[item] == 3][cat],\n",
    "                  data_copy[data_copy[item] == 4][cat])\n",
    "        table[cat].append((p,F))\n",
    "pd.DataFrame(data=table, index=a)"
   ]
  },
  {
   "cell_type": "markdown",
   "metadata": {},
   "source": [
    "We find:\n",
    "* Statistical significance wrt # of categories participant believed both video conference software and LMS collected vs whether recording is wanted\n",
    "* \\# of categories participant believed video conferencing software collected and whether they beleived the camera should be on"
   ]
  },
  {
   "cell_type": "code",
   "execution_count": 360,
   "metadata": {},
   "outputs": [
    {
     "data": {
      "text/plain": [
       "(2.58847110125591, 0.039949095666883164)"
      ]
     },
     "execution_count": 360,
     "metadata": {},
     "output_type": "execute_result"
    }
   ],
   "source": [
    "#data_copy[data_copy[\"ifWantCameraOn\"] == 0][\"beliefsVidConId\"]\n",
    "F, p = ss.f_oneway(data_copy[data_copy[\"ifWantCameraOn\"] == 0][\"beliefsVidConId\"],\n",
    "                  data_copy[data_copy[\"ifWantCameraOn\"] == 1][\"beliefsVidConId\"],\n",
    "                  data_copy[data_copy[\"ifWantCameraOn\"] == 2][\"beliefsVidConId\"],\n",
    "                  data_copy[data_copy[\"ifWantCameraOn\"] == 3][\"beliefsVidConId\"],\n",
    "                  data_copy[data_copy[\"ifWantCameraOn\"] == 4][\"beliefsVidConId\"])\n",
    "F, p"
   ]
  },
  {
   "cell_type": "code",
   "execution_count": 367,
   "metadata": {},
   "outputs": [
    {
     "data": {
      "text/plain": [
       "(0.9839846335561695, 0.3766281118395992)"
      ]
     },
     "execution_count": 367,
     "metadata": {},
     "output_type": "execute_result"
    }
   ],
   "source": [
    "F, p = ss.f_oneway(data_copy[(data_copy[\"ifWantCameraOn\"] == 0) | (data_copy[\"ifWantCameraOn\"] == 1)][\"beliefsVidConId\"],\n",
    "                  data_copy[data_copy[\"ifWantCameraOn\"] == 2][\"beliefsVidConId\"],\n",
    "                  data_copy[(data_copy[\"ifWantCameraOn\"] == 3) | (data_copy[\"ifWantCameraOn\"] == 4)][\"beliefsVidConId\"])\n",
    "F, p"
   ]
  },
  {
   "cell_type": "markdown",
   "metadata": {},
   "source": [
    "So here it is interesting that when we run ANOVA on camera preferences vs # of categories participant believes is being collected by video conferencing software as is, we get p = 0.04, F = 2.59, however when we roll up the responses to correspond to just negative, neutral, and positive preference, we get a lot less statistical significance."
   ]
  },
  {
   "cell_type": "markdown",
   "metadata": {},
   "source": [
    "# Beliefs whether data is sent to instructor vs preferences"
   ]
  },
  {
   "cell_type": "code",
   "execution_count": 473,
   "metadata": {},
   "outputs": [
    {
     "data": {
      "text/html": [
       "<div>\n",
       "<style scoped>\n",
       "    .dataframe tbody tr th:only-of-type {\n",
       "        vertical-align: middle;\n",
       "    }\n",
       "\n",
       "    .dataframe tbody tr th {\n",
       "        vertical-align: top;\n",
       "    }\n",
       "\n",
       "    .dataframe thead th {\n",
       "        text-align: right;\n",
       "    }\n",
       "</style>\n",
       "<table border=\"1\" class=\"dataframe\">\n",
       "  <thead>\n",
       "    <tr style=\"text-align: right;\">\n",
       "      <th></th>\n",
       "      <th>beliefsDataSentVidCon</th>\n",
       "      <th>beliefsDataSentLMS</th>\n",
       "      <th>beliefsDataSentProctor</th>\n",
       "    </tr>\n",
       "  </thead>\n",
       "  <tbody>\n",
       "    <tr>\n",
       "      <th>ifWantCameraOn</th>\n",
       "      <td>(0.6301106051320201, 4)</td>\n",
       "      <td>(0.928875210318349, 4)</td>\n",
       "      <td>(0.019745184565358766, 4)</td>\n",
       "    </tr>\n",
       "    <tr>\n",
       "      <th>ifWantRemote</th>\n",
       "      <td>(0.4145279548642756, 4)</td>\n",
       "      <td>(0.017134640093821697, 4)</td>\n",
       "      <td>(0.21532138340191687, 4)</td>\n",
       "    </tr>\n",
       "    <tr>\n",
       "      <th>ifWantRecording</th>\n",
       "      <td>(0.9782777131606106, 4)</td>\n",
       "      <td>(0.8168866828650898, 4)</td>\n",
       "      <td>(0.4717049550176151, 4)</td>\n",
       "    </tr>\n",
       "  </tbody>\n",
       "</table>\n",
       "</div>"
      ],
      "text/plain": [
       "                   beliefsDataSentVidCon         beliefsDataSentLMS  \\\n",
       "ifWantCameraOn   (0.6301106051320201, 4)     (0.928875210318349, 4)   \n",
       "ifWantRemote     (0.4145279548642756, 4)  (0.017134640093821697, 4)   \n",
       "ifWantRecording  (0.9782777131606106, 4)    (0.8168866828650898, 4)   \n",
       "\n",
       "                    beliefsDataSentProctor  \n",
       "ifWantCameraOn   (0.019745184565358766, 4)  \n",
       "ifWantRemote      (0.21532138340191687, 4)  \n",
       "ifWantRecording    (0.4717049550176151, 4)  "
      ]
     },
     "execution_count": 473,
     "metadata": {},
     "output_type": "execute_result"
    }
   ],
   "source": [
    "a = [c for c in data_copy.columns if 'ifWant' in c]\n",
    "b = categorical_cols\n",
    "\n",
    "table = []\n",
    "\n",
    "for i in a:\n",
    "    row = []\n",
    "    for j in b:\n",
    "        pair = data_copy[[i,j]].applymap(lambda x: np.nan if x < 0 else x)\n",
    "        pair = pair[~pair.isnull().any(axis=1)]\n",
    "        chi, p, df, ex = ss.chi2_contingency(pd.crosstab(pair[i], pair[j]))\n",
    "        row.append((p,df))\n",
    "    table.append(row)\n",
    "\n",
    "table = pd.DataFrame(data = table, columns=b, index = a)\n",
    "table"
   ]
  },
  {
   "cell_type": "markdown",
   "metadata": {},
   "source": [
    "# Presense of Not Sure vs Preferences"
   ]
  },
  {
   "cell_type": "markdown",
   "metadata": {},
   "source": [
    "Here we can do Mann Whitney or Chi Squared. Since we use chi squared prior and will for the next few tests, for consistency we will use Chi Squared"
   ]
  },
  {
   "cell_type": "code",
   "execution_count": 474,
   "metadata": {},
   "outputs": [],
   "source": [
    "data_copy[categorical_cols] = data[categorical_cols]#.applymap(lambda x: np.nan if x < 0 else x)\n",
    "data_copy[categorical_cols] = data_copy[categorical_cols].applymap(lambda x: 1 if x > 0 else x)\n",
    "#data_copy[categorical_cols]"
   ]
  },
  {
   "cell_type": "code",
   "execution_count": 475,
   "metadata": {},
   "outputs": [
    {
     "data": {
      "text/html": [
       "<div>\n",
       "<style scoped>\n",
       "    .dataframe tbody tr th:only-of-type {\n",
       "        vertical-align: middle;\n",
       "    }\n",
       "\n",
       "    .dataframe tbody tr th {\n",
       "        vertical-align: top;\n",
       "    }\n",
       "\n",
       "    .dataframe thead th {\n",
       "        text-align: right;\n",
       "    }\n",
       "</style>\n",
       "<table border=\"1\" class=\"dataframe\">\n",
       "  <thead>\n",
       "    <tr style=\"text-align: right;\">\n",
       "      <th></th>\n",
       "      <th>beliefsDataSentVidCon</th>\n",
       "      <th>beliefsDataSentLMS</th>\n",
       "      <th>beliefsDataSentProctor</th>\n",
       "    </tr>\n",
       "  </thead>\n",
       "  <tbody>\n",
       "    <tr>\n",
       "      <th>ifWantCameraOn</th>\n",
       "      <td>(0.6301106051320201, 4)</td>\n",
       "      <td>(0.928875210318349, 4)</td>\n",
       "      <td>(0.019745184565358766, 4)</td>\n",
       "    </tr>\n",
       "    <tr>\n",
       "      <th>ifWantRemote</th>\n",
       "      <td>(0.4145279548642756, 4)</td>\n",
       "      <td>(0.017134640093821697, 4)</td>\n",
       "      <td>(0.21532138340191687, 4)</td>\n",
       "    </tr>\n",
       "    <tr>\n",
       "      <th>ifWantRecording</th>\n",
       "      <td>(0.9782777131606106, 4)</td>\n",
       "      <td>(0.8168866828650898, 4)</td>\n",
       "      <td>(0.4717049550176151, 4)</td>\n",
       "    </tr>\n",
       "  </tbody>\n",
       "</table>\n",
       "</div>"
      ],
      "text/plain": [
       "                   beliefsDataSentVidCon         beliefsDataSentLMS  \\\n",
       "ifWantCameraOn   (0.6301106051320201, 4)     (0.928875210318349, 4)   \n",
       "ifWantRemote     (0.4145279548642756, 4)  (0.017134640093821697, 4)   \n",
       "ifWantRecording  (0.9782777131606106, 4)    (0.8168866828650898, 4)   \n",
       "\n",
       "                    beliefsDataSentProctor  \n",
       "ifWantCameraOn   (0.019745184565358766, 4)  \n",
       "ifWantRemote      (0.21532138340191687, 4)  \n",
       "ifWantRecording    (0.4717049550176151, 4)  "
      ]
     },
     "execution_count": 475,
     "metadata": {},
     "output_type": "execute_result"
    }
   ],
   "source": [
    "a = [c for c in data_copy.columns if 'ifWant' in c]\n",
    "b = categorical_cols\n",
    "\n",
    "table = []\n",
    "\n",
    "for i in a:\n",
    "    row = []\n",
    "    for j in b:\n",
    "        pair = data_copy[[i,j]].applymap(lambda x: np.nan if x < 0 else x)\n",
    "        pair = pair[~pair.isnull().any(axis=1)]\n",
    "        #print(pd.crosstab(pair[i], pair[j]))\n",
    "        chi, p, df, ex = ss.chi2_contingency(pd.crosstab(pair[i], pair[j]))\n",
    "        row.append((p,df))\n",
    "    table.append(row)\n",
    "\n",
    "table = pd.DataFrame(data = table, columns=b, index = a)\n",
    "table"
   ]
  },
  {
   "cell_type": "markdown",
   "metadata": {},
   "source": [
    "**So there is some sort of relationship between whether participants want remote classes and whether they believe data is sent to instructors both a relationship between wanting remote and a specific belief and whether they were unsure.**\n",
    "Similarly there seems to be some sort of relationship between whether participants want mandatory camera and their beliefs of whether proctoring data is sent to instructors. I'm a little dubious about this one since most of the time we while we associate proctor with camera, the relationship doesnt go the other way around as camera is more associated with video conferencing software."
   ]
  },
  {
   "cell_type": "markdown",
   "metadata": {},
   "source": [
    "# Presence of specific data category in beliefs vs preferences"
   ]
  },
  {
   "cell_type": "code",
   "execution_count": 408,
   "metadata": {},
   "outputs": [],
   "source": [
    "#data_copy"
   ]
  },
  {
   "cell_type": "code",
   "execution_count": null,
   "metadata": {},
   "outputs": [],
   "source": []
  },
  {
   "cell_type": "markdown",
   "metadata": {},
   "source": [
    "Whether belief that any specific category is collected correlates with any preferences"
   ]
  },
  {
   "cell_type": "code",
   "execution_count": null,
   "metadata": {},
   "outputs": [],
   "source": []
  },
  {
   "cell_type": "code",
   "execution_count": 341,
   "metadata": {},
   "outputs": [],
   "source": [
    "#sb.jointplot(x=\"ifWantCameraOn\", y=\"beliefsVidConId\", data=data_copy, alpha=0.2)\n",
    "#sb.jointplot(x=\"ifWantCameraOn\", y=\"beliefsLMSId\", data=data_copy, alpha=0.2)\n",
    "#sb.jointplot(x=\"ifWantCameraOn\", y=\"beliefsProctorId\", data=data_copy, alpha=0.2)"
   ]
  },
  {
   "cell_type": "markdown",
   "metadata": {},
   "source": [
    "# RUN THE BELOW FIRST OR NOTHING WILL WORK"
   ]
  },
  {
   "cell_type": "code",
   "execution_count": 231,
   "metadata": {},
   "outputs": [],
   "source": [
    "file = \"data.csv\"\n",
    "dbfile = \"data.db\"\n",
    "qualfile = \"qualStats.csv\""
   ]
  },
  {
   "cell_type": "code",
   "execution_count": 232,
   "metadata": {},
   "outputs": [],
   "source": [
    "import numpy as np\n",
    "import pandas as pd\n",
    "import scipy.stats as ss\n",
    "\n",
    "import matplotlib.pyplot as plt\n",
    "import seaborn as sb"
   ]
  },
  {
   "cell_type": "code",
   "execution_count": 292,
   "metadata": {},
   "outputs": [],
   "source": [
    "data = pd.read_csv(file)"
   ]
  },
  {
   "cell_type": "code",
   "execution_count": 293,
   "metadata": {},
   "outputs": [
    {
     "name": "stdout",
     "output_type": "stream",
     "text": [
      "Index(['beliefsVidConId', 'beliefsVidCon', 'beliefsDataSentVidCon',\n",
      "       'beliefsLMSId', 'beliefsLMS', 'beliefsDataSentLMS', 'beliefsProctorId',\n",
      "       'beliefsProctor', 'beliefsDataSentProctor', 'ifWantCameraOn',\n",
      "       'ifWantRemote', 'ifWantRecording'],\n",
      "      dtype='object')\n"
     ]
    }
   ],
   "source": [
    "cols = [c for c in data.columns if 'beliefs' in c]\n",
    "cols.extend([\"ifWantCameraOn\", \"ifWantRemote\", \"ifWantRecording\"])\n",
    "data = data.filter(cols, axis = 1)\n",
    "data.drop([c for c in cols if 'DataSent'in c and 'Id' in c],inplace = True, axis = 1)\n",
    "print(data.columns)"
   ]
  },
  {
   "cell_type": "code",
   "execution_count": 294,
   "metadata": {},
   "outputs": [],
   "source": [
    "colBeliefs = [c for c in data.columns if 'Id' in c]\n",
    "#data[colBeliefs] = data[colBeliefs].apply(split)\n",
    "data[colBeliefs] = data[colBeliefs].astype('string')\n",
    "#print(data[colBeliefs].astype('string').dtypes)\n",
    "#print(data[colBeliefs])\n",
    "data[colBeliefs] = data[colBeliefs].apply(lambda x: x.str.split(','))\n",
    "#print(data[colBeliefs])\n"
   ]
  },
  {
   "cell_type": "code",
   "execution_count": null,
   "metadata": {},
   "outputs": [],
   "source": []
  },
  {
   "cell_type": "code",
   "execution_count": 296,
   "metadata": {},
   "outputs": [],
   "source": [
    "ordinal_cols = [c for c in data.columns if 'ifWant' in c]\n",
    "data[ordinal_cols] = data[ordinal_cols].astype(pd.api.types.CategoricalDtype(ordered = True, categories=['Definitely No', 'No', 'Might or Might Not', 'Yes', 'Definitely Yes']))\n",
    "data[ordinal_cols] = data[ordinal_cols].apply(lambda x : x.cat.codes)"
   ]
  },
  {
   "cell_type": "code",
   "execution_count": 297,
   "metadata": {},
   "outputs": [],
   "source": [
    "categorical_cols = [c for c in data.columns if 'beliefsData' in c]\n",
    "data[categorical_cols] = data[categorical_cols].astype(pd.api.types.CategoricalDtype(ordered = True, categories=[\"I'm not sure\", 'No', 'Yes. Some of it', 'Yes. All of it']))\n",
    "data[categorical_cols] = data[categorical_cols].apply(lambda x : x.cat.codes)"
   ]
  },
  {
   "cell_type": "code",
   "execution_count": null,
   "metadata": {},
   "outputs": [],
   "source": []
  },
  {
   "attachments": {},
   "cell_type": "markdown",
   "metadata": {},
   "source": [
    "(-1) I'm not sure\n",
    "\n",
    "(1)  Video/ Audio Recordings\n",
    "\n",
    "(2)  IP Address\n",
    "\n",
    "(3)  Hardware and System Specifications (eg operating system, type of device, internet service provider, installed peripherals such as monitors or keyboards, etc)\n",
    "\n",
    "(5)  Browser Specification\n",
    "\n",
    "(6)  Open Applications or Browser Tabs\n",
    "\n",
    "(7)  Installed Browser Plugins\n",
    "\n",
    "(8)  Personal Files/ Documents\n",
    "\n",
    "(9)  Keystrokes/ Mouse Activity\n",
    "\n",
    "(10) Facial Movements\n",
    "\n",
    "(11) Sensitive Information (information that may result in harm or discrimination eg race, health information, political beliefs, etc)\n",
    "\n",
    "(12) Behavioral Information (information about how you use the software eg. how much time you spend on the software, what features you use\n",
    "\n",
    "(13) Personal Information (information that can be used to identify you eg. phone number, address, employer, SSN. For the purposes of this survey your name and email address are not considered personal information)\n",
    "\n",
    "\\* accidentally skipped (4) while transforming answers to corresponding number so there is no (4). There were only 13 choices for these questions"
   ]
  },
  {
   "cell_type": "code",
   "execution_count": 461,
   "metadata": {},
   "outputs": [],
   "source": [
    "data_copy = data.copy(deep = True)"
   ]
  },
  {
   "cell_type": "markdown",
   "metadata": {},
   "source": [
    "Count the # of items not including \"I'm not sure\""
   ]
  },
  {
   "cell_type": "code",
   "execution_count": 462,
   "metadata": {},
   "outputs": [],
   "source": [
    "data_copy[colBeliefs] = data_copy[colBeliefs].applymap(lambda x: len(x)-1 if '-1' in x else len(x), na_action='ignore')"
   ]
  },
  {
   "cell_type": "code",
   "execution_count": 463,
   "metadata": {},
   "outputs": [],
   "source": [
    "data_copy[colBeliefs] = data_copy[colBeliefs].fillna(0)"
   ]
  },
  {
   "cell_type": "code",
   "execution_count": 464,
   "metadata": {},
   "outputs": [],
   "source": [
    "#data_copy[categorical_cols]"
   ]
  },
  {
   "cell_type": "code",
   "execution_count": 465,
   "metadata": {},
   "outputs": [],
   "source": [
    "data_copy[categorical_cols] = data_copy[categorical_cols].applymap(lambda x: np.nan if x < 1 else x)"
   ]
  },
  {
   "cell_type": "code",
   "execution_count": 466,
   "metadata": {},
   "outputs": [],
   "source": [
    "#data_copy"
   ]
  }
 ],
 "metadata": {
  "kernelspec": {
   "display_name": "Python 3",
   "language": "python",
   "name": "python3"
  },
  "language_info": {
   "codemirror_mode": {
    "name": "ipython",
    "version": 3
   },
   "file_extension": ".py",
   "mimetype": "text/x-python",
   "name": "python",
   "nbconvert_exporter": "python",
   "pygments_lexer": "ipython3",
   "version": "3.7.1"
  }
 },
 "nbformat": 4,
 "nbformat_minor": 2
}
