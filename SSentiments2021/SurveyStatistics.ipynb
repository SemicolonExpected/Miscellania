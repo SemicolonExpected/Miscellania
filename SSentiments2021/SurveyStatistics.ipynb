{
 "cells": [
  {
   "cell_type": "code",
   "execution_count": 1,
   "metadata": {},
   "outputs": [],
   "source": [
    "!jt -t oceans16 -cellw 100%"
   ]
  },
  {
   "cell_type": "markdown",
   "metadata": {},
   "source": [
    "Change this to whatever your datafiles are called"
   ]
  },
  {
   "cell_type": "code",
   "execution_count": 75,
   "metadata": {},
   "outputs": [],
   "source": [
    "file = \"data.csv\"\n",
    "dbfile = \"data.db\"\n",
    "qualfile = \"qualStats.csv\""
   ]
  },
  {
   "cell_type": "code",
   "execution_count": null,
   "metadata": {},
   "outputs": [],
   "source": []
  },
  {
   "cell_type": "code",
   "execution_count": 34,
   "metadata": {},
   "outputs": [],
   "source": [
    "import numpy as np\n",
    "import pandas as pd\n",
    "import scipy.stats as ss\n",
    "\n",
    "import matplotlib.pyplot as plt"
   ]
  },
  {
   "cell_type": "code",
   "execution_count": 35,
   "metadata": {},
   "outputs": [],
   "source": [
    "cols = ['Progress', 'ResponseId', 'Finished', 'Duration (in seconds)', 'ifBelieveEffectiveProctor', 'ifInterview']"
   ]
  },
  {
   "cell_type": "code",
   "execution_count": 36,
   "metadata": {},
   "outputs": [],
   "source": [
    "data = pd.read_csv(file)\n",
    "data.drop(cols, inplace = True, axis = 1)\n",
    "\n",
    "#we dont need the specific qualitative answers right now\n",
    "data.drop([c for c in data.columns if c.startswith('Qual_') or c.startswith('End')],inplace = True, axis = 1)\n",
    "\n",
    "referer = data.filter(['Demo 7', 'Referer', 'SocialSource'], axis = 1)\n",
    "data.drop(['Demo 7', 'Referer', 'SocialSource'], inplace = True, axis = 1)\n",
    "\n",
    "data.replace(-100, np.NaN, inplace=True)"
   ]
  },
  {
   "cell_type": "code",
   "execution_count": 37,
   "metadata": {},
   "outputs": [],
   "source": [
    "qualdata = pd.read_csv(qualfile)\n",
    "#Squash down all the codes for each document to get specific codes said by specific people.\n",
    "\n",
    "codedata = qualdata[qualdata.columns.difference(['D'])] #everything but the document number\n",
    "qualdata[qualdata.columns.difference(['D'])] = codedata.astype(bool)\n",
    "\n",
    "noresponse = qualdata[qualdata['No Response']].head(1).copy()\n",
    "\n",
    "tempdf = pd.DataFrame()\n",
    "\n",
    "for i in range (1, len(data)+1):\n",
    "    temp = qualdata[qualdata['D'] == i]\n",
    "    if len(temp) == 0:\n",
    "        # no response\n",
    "        noresponse['D'] = i\n",
    "        tempdf = tempdf.append(noresponse, ignore_index = True)\n",
    "    else:\n",
    "        #merge all the instances on (1) basically logical or them but with 0/1\n",
    "        temp1 = pd.DataFrame(temp.any(axis=0)).T #gets the logical or of the subset\n",
    "        temp1['D'] = i\n",
    "        tempdf = tempdf.append(temp1, ignore_index = True)\n",
    "        #print(i, len(tempdf))\n",
    "        \n",
    "tempdf.reindex_like(qualdata)\n",
    "qualdata = tempdf\n"
   ]
  },
  {
   "cell_type": "markdown",
   "metadata": {},
   "source": [
    "Combine data with qualdata so we can analyse whether answers corresponds with certain codes"
   ]
  },
  {
   "cell_type": "code",
   "execution_count": 38,
   "metadata": {},
   "outputs": [],
   "source": [
    "data.rename(columns={'Unnamed: 0':'id'}, inplace=True)\n",
    "data = pd.concat([data,qualdata], axis = 1)#.set_index('id')"
   ]
  },
  {
   "cell_type": "markdown",
   "metadata": {},
   "source": [
    "Uncomment the following to get demographics data"
   ]
  },
  {
   "cell_type": "code",
   "execution_count": 39,
   "metadata": {},
   "outputs": [],
   "source": [
    "temp = []\n",
    "for uni in data['University']:\n",
    "    if 'NYU' in uni.upper():\n",
    "        temp.append('NYU')\n",
    "    elif 'HUNTER' in uni.upper():\n",
    "        temp.append('Hunter College')\n",
    "    elif 'AUBG' in uni.upper() or 'BULGARIA' in uni.upper():\n",
    "        temp.append('American University in Bulgaria')\n",
    "    elif 'CCNY' in uni.upper() or 'CITY COLLEGE OF NEW YORK' in uni.upper():\n",
    "        temp.append('City College of New York')\n",
    "    elif 'JAIN' in uni.upper():\n",
    "        temp.append('Jain University')\n",
    "    elif 'WISCONSIN' in uni.upper():\n",
    "        temp.append('University of Wisconsin')\n",
    "    elif 'COLUMBIA' in uni.upper():\n",
    "        temp.append('Columbia University')\n",
    "    elif 'YALE' in uni.upper():\n",
    "        temp.append('Yale University')\n",
    "    else:\n",
    "        temp.append(uni)\n",
    "\n",
    "data['University'] = pd.DataFrame(temp)"
   ]
  },
  {
   "cell_type": "code",
   "execution_count": 40,
   "metadata": {},
   "outputs": [
    {
     "name": "stdout",
     "output_type": "stream",
     "text": [
      "email        78\n",
      "redditss     13\n",
      "emailh       12\n",
      "dbud          9\n",
      "facebook      5\n",
      "ff            2\n",
      "quch          1\n",
      "facebookh     1\n",
      "Name: SocialSource, dtype: int64\n",
      "Anything that does not have a social source tag was social media (so add n-total social source)\n"
     ]
    }
   ],
   "source": [
    "#print(data['degreePersuing'].value_counts())\n",
    "#print(data.groupby(['degreePersuing','yearInProgram']).size())\n",
    "#print(data['Age'].value_counts())\n",
    "#recruitment source\n",
    "print(referer['SocialSource'].value_counts())\n",
    "print('Anything that does not have a social source tag was social media (so add n-total social source)')\n",
    "#print(data['ifZoomUsed'].value_counts())\n",
    "#print(data['ifLMSUsed'].value_counts())\n",
    "#print(data['ifProctorUsed'].value_counts())\n",
    "#print(data['University'].value_counts())"
   ]
  },
  {
   "cell_type": "code",
   "execution_count": 41,
   "metadata": {},
   "outputs": [],
   "source": [
    "data.drop(['degreePersuing','yearInProgram', 'D', 'University'], inplace = True, axis = 1)"
   ]
  },
  {
   "cell_type": "code",
   "execution_count": 57,
   "metadata": {},
   "outputs": [],
   "source": [
    "#print(data['ifLecturesRecorded'].value_counts())\n",
    "#print(data['ifMandatoryCamera'].value_counts())\n",
    "# print(data['ifWantRemote'].value_counts())\n",
    "# print(data['ifWantCameraOn'].value_counts())\n",
    "# print(data['ifWantRecording'].value_counts())\n",
    "#print(data['ifComfortableProctor'].value_counts())\n",
    "#print(data['ifPreferProctor'].value_counts())\n",
    "#print(data['ifBelieveFairProctor'].value_counts())\n",
    "#print(data['ifBelieveEffectiveProctorId'].value_counts())\n",
    "#print(data['No Response'].value_counts())\n",
    "#Number of Qual Respondants by Question\n",
    "#print(len(data[ data['Qual_Exam'] & ~data['No Response'] ]))\n",
    "#print(len(data[ data['Qual_Zoom'] & ~data['No Response'] ]))\n",
    "#print(len(data[ data['Qual_Proctor'] & ~data['No Response'] ]))\n",
    "#print(len((data[ (data['End1'] | data['End2']) & ~data['No Response'] ])))\n",
    "\n",
    "#Number of people who responded to thematic category\n",
    "# accessibility = ['Falsely accused of cheating', 'Accessible','In-accessible','Not allowed to perform biological functions', \n",
    "#                  'Likes classes being recorded', 'Technical Limitations', 'Unintuitive UI', 'Learning curve']\n",
    "# engagement = ['Difficulty focusing', 'Difficulty socializing/engaging', 'Lack of social presence', 'Classes less engaging', \n",
    "#               'Camera on more engaging', 'Fear of judgement', 'Cameras should be mandatory', 'easier to ask questions', \n",
    "#               'Zoom fatigue', 'camera off less engaging', 'Camera on less engaging', 'Easier to focus', \n",
    "#               'lack of understanding of social norms','Small class easier to engage', 'Possibility of falling behind', \n",
    "#               'Not suitable for engagement-heavy classes', 'Unsuitable environment (potentially)', 'Blurred Boundaries', \n",
    "#               'Comfortable recorded and turning camera on']\n",
    "# instrqual = ['Possibility of falling behind', 'Not suitable for engagement-heavy classes', 'Exams easier/less stressful',\n",
    "#              'Proctoring Software Ineffective', 'exams harder/ more stressful', 'Felt there was more cheating',\n",
    "#              'Instructor adapted exam well', 'Professors unsupportive/not adapting', 'Unable to go back to prior questions during exams',\n",
    "#              'Less time per question on exam', 'Poor Instructional Quality', 'Proctoring software effective', \n",
    "#              'doesnt feel like real class', 'Everything needed for class', 'More analogous to the real world', \n",
    "#              'high quality class materials', 'instructor dependant', 'Professor more engaged']\n",
    "# privacy = ['Unsuitable environment (potentially)', 'Blurred Boundaries', 'Comfortable recorded and turning camera on',\n",
    "#            'Proctoring Software Intrusive/ Invasive', 'Discomfort with mandatory camera', 'Discomfort with turning camera on',\n",
    "#            'Discomfort with being recorded', 'Concerns about data collection', 'uncertainty', \n",
    "#            'Concern about privacy leaks', 'Discomfort with being monitored', \n",
    "#            'Feared accidentally unmuting or turning camera on/sharing wrong tab','desires transparency wrt data collection',\n",
    "#            'I made a comprise of my privacy for a credential and I’m not happy a', 'resignation', 'I trust my institution', 'Felt privacy intact', 'invasive']\n",
    "#technical = ['Technical Limitations', 'Unintuitive UI', 'Learning curve']\n",
    "#print(len((data[ data['Technical Limitations'] | data['Unintuitive UI'] | data['Learning curve'] ])))\n",
    "# print(len(data[data[accessibility].any(axis=1)]))\n",
    "# print(len(data[data[engagement].any(axis=1)]))\n",
    "# print(len(data[data[instrqual].any(axis=1)]))\n",
    "# print(len(data[data[privacy].any(axis=1)]))\n",
    "#print(len(data[data[technical].any(axis=1)]))\n"
   ]
  },
  {
   "cell_type": "markdown",
   "metadata": {},
   "source": [
    "LMS data doesnt seem particularly useful here since it wasnt mentioned much in the qualitative responses. We also dont ask too many questions wrt LMS."
   ]
  },
  {
   "cell_type": "code",
   "execution_count": 58,
   "metadata": {},
   "outputs": [],
   "source": [
    "#print(data['ifLMSHelped'].value_counts())\n",
    "data.drop([c for c in data.columns if 'LMS' in c], inplace = True, axis = 1)"
   ]
  },
  {
   "cell_type": "markdown",
   "metadata": {},
   "source": [
    "Should probably check for correlations between only columns that are related. Ie Camera and Recording with other Camera and Recording stuff. Though proctoring beliefs and cameras might have some relationship, it is less relevant and computationally infeasible because of how many codes we have. We can try to correlate between just the survey likert responses.\n",
    "\n"
   ]
  },
  {
   "cell_type": "markdown",
   "metadata": {},
   "source": []
  },
  {
   "cell_type": "code",
   "execution_count": 44,
   "metadata": {},
   "outputs": [],
   "source": [
    "def cramers_corrected_stat(confusion_matrix):\n",
    "    \"\"\" calculate Cramers V statistic for categorial-categorial association.\n",
    "        uses correction from Bergsma and Wicher, \n",
    "        Journal of the Korean Statistical Society 42 (2013): 323-328\n",
    "        Found: https://stackoverflow.com/a/39266194/1072532\n",
    "    \"\"\"\n",
    "    chi2 = ss.chi2_contingency(confusion_matrix)[0]\n",
    "    n = confusion_matrix.sum()\n",
    "    phi2 = chi2/n\n",
    "    r,k = confusion_matrix.shape\n",
    "    phi2corr = max(0, phi2 - ((k-1)*(r-1))/(n-1))    \n",
    "    rcorr = r - ((r-1)**2)/(n-1)\n",
    "    kcorr = k - ((k-1)**2)/(n-1)\n",
    "    return np.sqrt(phi2corr / min( (kcorr-1), (rcorr-1)))"
   ]
  },
  {
   "cell_type": "code",
   "execution_count": 45,
   "metadata": {},
   "outputs": [
    {
     "name": "stdout",
     "output_type": "stream",
     "text": [
      "18-24    82\n",
      "25-34    40\n",
      "35-44     9\n",
      "55-64     1\n",
      "Name: Age, dtype: int64\n"
     ]
    }
   ],
   "source": [
    "cols = ['Age']+[c for c in data.columns if 'if' in c and 'Id' not in c and 'Used' not in c][:8]\n",
    "print(data['Age'].value_counts())\n",
    "likerts = data[cols].apply(lambda x : pd.factorize(x, na_sentinel=-1)[0])#+1\n",
    "#Standard Chi Squared for categorical values doesnt work. Sample size too small for some categories? \n",
    "#https://github.com/scipy/scipy/issues/14298\n",
    "#pd.DataFrame([ss.chisquare(likerts[x].values,f_exp=likerts.values.T,axis=1)[0] for x in likerts])"
   ]
  },
  {
   "cell_type": "code",
   "execution_count": 46,
   "metadata": {},
   "outputs": [],
   "source": [
    "contingencymatrices = []\n",
    "#for each column get confusion matrix with all other columns \n",
    "#if matrix does not already exist ie calculate conf[i,j] if conf[j,i] DNE \n",
    "# probably just check whether j > i because if i < j then its transpose has been done\n",
    "\n",
    "for i in range (len(likerts.columns)):\n",
    "    contingencymatrices.append([])\n",
    "    for j in range(len(likerts.columns)):\n",
    "        if i == j:\n",
    "            contingencymatrices[i].append(1) #because the same column vs same column is just going to be 1\n",
    "        if j > i:\n",
    "            contingencymatrices[i].append(None)\n",
    "        if i > j: #if i > j then redundant\n",
    "            #drop rows where either cols value is -1\n",
    "            temp = likerts[ (likerts[likerts.columns[i]] > -1) & (likerts[likerts.columns[j]] > -1) ]\n",
    "            contingencymatrices[i].append(pd.crosstab(temp[likerts.columns[i]], temp[likerts.columns[j]]))\n",
    "        \n",
    "#c = temp.groupby(['ifComfortableProctor'], dropna=False, as_index=False).size()\n",
    "#print(c)\n",
    "#print(contingencymatrices[8][0])"
   ]
  },
  {
   "cell_type": "markdown",
   "metadata": {},
   "source": [
    "Cramer's V"
   ]
  },
  {
   "cell_type": "code",
   "execution_count": 73,
   "metadata": {},
   "outputs": [
    {
     "name": "stdout",
     "output_type": "stream",
     "text": [
      "          0         1         2         3         4         5         6  \\\n",
      "0  1.000000       NaN       NaN       NaN       NaN       NaN       NaN   \n",
      "1  0.157447  1.000000       NaN       NaN       NaN       NaN       NaN   \n",
      "2  0.133681  0.083102  1.000000       NaN       NaN       NaN       NaN   \n",
      "3  0.158726  0.143441  0.000000  1.000000       NaN       NaN       NaN   \n",
      "4  0.081006  0.099969  0.083697  0.147410  1.000000       NaN       NaN   \n",
      "5  0.000000  0.136129  0.215745  0.000000  0.000000  1.000000       NaN   \n",
      "6  0.000000  0.204273  0.143827  0.000000  0.201096  0.000000  1.000000   \n",
      "7  0.152175  0.122432  0.000000  0.180479  0.104000  0.000000  0.291882   \n",
      "8  0.000000  0.159539  0.000000  0.133478  0.109498  0.112745  0.218880   \n",
      "\n",
      "          7    8  \n",
      "0       NaN  NaN  \n",
      "1       NaN  NaN  \n",
      "2       NaN  NaN  \n",
      "3       NaN  NaN  \n",
      "4       NaN  NaN  \n",
      "5       NaN  NaN  \n",
      "6       NaN  NaN  \n",
      "7  1.000000  NaN  \n",
      "8  0.245325  1.0  \n"
     ]
    }
   ],
   "source": [
    "#print(pd.show_versions())\n",
    "cramersV = []\n",
    "for i in range (len(contingencymatrices)):\n",
    "    cramersV.append([])\n",
    "    for j in contingencymatrices[i]:\n",
    "        if isinstance(j, pd.DataFrame):\n",
    "            cramersV[i].append(cramers_corrected_stat(j.to_numpy()))\n",
    "        else:\n",
    "            cramersV[i].append(j)\n",
    "            \n",
    "cramersVDf = pd.DataFrame(cramersV)\n",
    "print(cramersVDf)"
   ]
  },
  {
   "cell_type": "code",
   "execution_count": 48,
   "metadata": {},
   "outputs": [
    {
     "data": {
      "text/plain": [
       "<Figure size 432x288 with 0 Axes>"
      ]
     },
     "metadata": {},
     "output_type": "display_data"
    },
    {
     "data": {
      "image/png": "[encoded data removed]",
      "text/plain": [
       "<Figure size 360x360 with 1 Axes>"
      ]
     },
     "metadata": {
      "needs_background": "light"
     },
     "output_type": "display_data"
    },
    {
     "data": {
      "image/png": "[encoded data removed]",
      "text/plain": [
       "<Figure size 720x720 with 1 Axes>"
      ]
     },
     "metadata": {
      "needs_background": "light"
     },
     "output_type": "display_data"
    }
   ],
   "source": [
    "#fig = plt.subplots()\n",
    "\n",
    "ifg = plt.figure()\n",
    "fig, ax = plt.subplots(1,1, figsize=(5,5))\n",
    "tablecolumns=[[i, likerts.columns[i]] for i in range(len(likerts.columns))]\n",
    "#ax.axis('tight')\n",
    "ax.axis('off')\n",
    "table = ax.table(cellText=tablecolumns,loc=\"center\", edges='open')\n",
    "table.auto_set_font_size(False)\n",
    "table.set_fontsize(12)\n",
    "table.scale(1.5, 1.5)\n",
    "\n",
    "plt.show()\n",
    "\n",
    "fig, x = plt.subplots(figsize=(10,10))\n",
    "x.matshow(cramersVDf, cmap='PuRd_r', vmin=0.0000000)\n",
    "#fig.colorbar(x)\n",
    "\n",
    "x_ticks = np.arange(0, len(cramersVDf), 1)\n",
    "plt.xticks(x_ticks)\n",
    "plt.yticks(x_ticks)\n",
    "x.xaxis.set_ticks_position('bottom')\n",
    "\n",
    "for (i, j), z in np.ndenumerate(cramersVDf):\n",
    "    if not np.isnan(z):\n",
    "        x.text(j, i, '{:0.2f}'.format(z), ha='center', va='center')\n",
    "    \n",
    "plt.show()"
   ]
  },
  {
   "cell_type": "markdown",
   "metadata": {},
   "source": [
    "Chi^2 Goodness of fit"
   ]
  },
  {
   "cell_type": "code",
   "execution_count": 62,
   "metadata": {},
   "outputs": [
    {
     "name": "stdout",
     "output_type": "stream",
     "text": [
      "chi2\n",
      "            0          1          2          3          4          5  \\\n",
      "0        NaN        NaN        NaN        NaN        NaN        NaN   \n",
      "1  18.586711        NaN        NaN        NaN        NaN        NaN   \n",
      "2  15.930291  11.720616        NaN        NaN        NaN        NaN   \n",
      "3  21.765062  19.991823  10.282245        NaN        NaN        NaN   \n",
      "4  14.611678  15.929246  14.781787  27.159064        NaN        NaN   \n",
      "5   7.852979  19.206977  29.962699   8.695610  15.433648        NaN   \n",
      "6   5.982626  22.403375  17.229439  14.970117  29.285216  14.137616   \n",
      "7  17.904903  15.828718   8.222765  26.737853  19.692791   6.701636   \n",
      "8   9.332893  18.401512   7.071504  21.959631  20.072881  20.306532   \n",
      "\n",
      "           6          7     8  \n",
      "0        NaN        NaN  None  \n",
      "1        NaN        NaN  None  \n",
      "2        NaN        NaN  None  \n",
      "3        NaN        NaN  None  \n",
      "4        NaN        NaN  None  \n",
      "5        NaN        NaN  None  \n",
      "6        NaN        NaN  None  \n",
      "7  44.116154        NaN  None  \n",
      "8  31.893225  35.917308  None  \n",
      "p\n",
      "           0         1         2         3         4         5         6  \\\n",
      "0       NaN       NaN       NaN       NaN       NaN       NaN       NaN   \n",
      "1  0.028946       NaN       NaN       NaN       NaN       NaN       NaN   \n",
      "2  0.068352  0.229522       NaN       NaN       NaN       NaN       NaN   \n",
      "3  0.040239  0.067241  0.591214       NaN       NaN       NaN       NaN   \n",
      "4  0.263362  0.194498  0.253587  0.039749       NaN       NaN       NaN   \n",
      "5  0.796511  0.083654  0.002829  0.925417  0.493136       NaN       NaN   \n",
      "6  0.916955  0.033240  0.141169  0.526828  0.022082  0.588462       NaN   \n",
      "7  0.118609  0.199208  0.767489  0.044490  0.234377  0.978592  0.000189   \n",
      "8  0.674265  0.104032  0.852852  0.144500  0.216956  0.206731  0.010325   \n",
      "\n",
      "          7     8  \n",
      "0       NaN  None  \n",
      "1       NaN  None  \n",
      "2       NaN  None  \n",
      "3       NaN  None  \n",
      "4       NaN  None  \n",
      "5       NaN  None  \n",
      "6       NaN  None  \n",
      "7       NaN  None  \n",
      "8  0.002971  None  \n",
      "df\n",
      "       0     1     2     3     4     5     6     7     8\n",
      "0   NaN   NaN   NaN   NaN   NaN   NaN   NaN   NaN  None\n",
      "1   9.0   NaN   NaN   NaN   NaN   NaN   NaN   NaN  None\n",
      "2   9.0   9.0   NaN   NaN   NaN   NaN   NaN   NaN  None\n",
      "3  12.0  12.0  12.0   NaN   NaN   NaN   NaN   NaN  None\n",
      "4  12.0  12.0  12.0  16.0   NaN   NaN   NaN   NaN  None\n",
      "5  12.0  12.0  12.0  16.0  16.0   NaN   NaN   NaN  None\n",
      "6  12.0  12.0  12.0  16.0  16.0  16.0   NaN   NaN  None\n",
      "7  12.0  12.0  12.0  16.0  16.0  16.0  16.0   NaN  None\n",
      "8  12.0  12.0  12.0  16.0  16.0  16.0  16.0  16.0  None\n"
     ]
    }
   ],
   "source": [
    "likerts.corr(method='pearson', min_periods=1)\n",
    "chi2 = []\n",
    "p = []\n",
    "df = []\n",
    "for i in range (len(contingencymatrices)):\n",
    "    chi2.append([])\n",
    "    p.append([])\n",
    "    df.append([])\n",
    "    for j in contingencymatrices[i]:\n",
    "        if isinstance(j, pd.DataFrame):\n",
    "            chi2[i].append(ss.chi2_contingency(j)[0])\n",
    "            #p[i].append(ss.chi2_contingency(j)[0:2])\n",
    "            p[i].append(ss.chi2_contingency(j)[1])\n",
    "            df[i].append(ss.chi2_contingency(j)[2])\n",
    "        else:\n",
    "            chi2[i].append(None)\n",
    "            p[i].append(None)\n",
    "            df[i].append(None)\n",
    "            \n",
    "chi2 = pd.DataFrame(chi2)\n",
    "p = pd.DataFrame(p)\n",
    "df = pd.DataFrame(df)\n",
    "print(\"chi2\\n\", chi2)\n",
    "print(\"p\\n\",p)\n",
    "print(\"df\\n\",df)"
   ]
  },
  {
   "cell_type": "code",
   "execution_count": 56,
   "metadata": {},
   "outputs": [],
   "source": [
    "\n",
    "# fig, y = plt.subplots(figsize=(10,10))\n",
    "# y.matshow(chi2, cmap='PuRd_r', vmin=0.0000000)\n",
    "\n",
    "# x_ticks = np.arange(0, len(chi2), 1)\n",
    "# plt.xticks(x_ticks)\n",
    "# plt.yticks(x_ticks)\n",
    "# y.xaxis.set_ticks_position('bottom')\n",
    "\n",
    "# for (i, j), z in np.ndenumerate(chi2):\n",
    "#     if not np.isnan(z):\n",
    "#         y.text(j, i, '{:0.2f}'.format(z), ha='center', va='center')\n",
    "    \n",
    "# plt.show()\n"
   ]
  },
  {
   "cell_type": "markdown",
   "metadata": {},
   "source": [
    "---"
   ]
  },
  {
   "cell_type": "code",
   "execution_count": 60,
   "metadata": {},
   "outputs": [],
   "source": [
    "#print (data)"
   ]
  },
  {
   "cell_type": "code",
   "execution_count": 59,
   "metadata": {},
   "outputs": [],
   "source": [
    "#for col in data.columns:\n",
    "#    print (col)"
   ]
  },
  {
   "cell_type": "code",
   "execution_count": 22,
   "metadata": {},
   "outputs": [],
   "source": [
    "#print(qual)\n",
    "#qual.to_csv('qual.csv')"
   ]
  },
  {
   "cell_type": "code",
   "execution_count": null,
   "metadata": {},
   "outputs": [],
   "source": [
    "# print(referer)"
   ]
  },
  {
   "cell_type": "code",
   "execution_count": null,
   "metadata": {},
   "outputs": [],
   "source": []
  }
 ],
 "metadata": {
  "kernelspec": {
   "display_name": "Python 3",
   "language": "python",
   "name": "python3"
  },
  "language_info": {
   "codemirror_mode": {
    "name": "ipython",
    "version": 3
   },
   "file_extension": ".py",
   "mimetype": "text/x-python",
   "name": "python",
   "nbconvert_exporter": "python",
   "pygments_lexer": "ipython3",
   "version": "3.7.1"
  }
 },
 "nbformat": 4,
 "nbformat_minor": 2
}
